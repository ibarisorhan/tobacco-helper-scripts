{
 "cells": [
  {
   "cell_type": "code",
   "execution_count": 1,
   "id": "cd8acf92",
   "metadata": {},
   "outputs": [],
   "source": [
    "#Settings\n",
    "file_name = 'the input .mol file'"
   ]
  },
  {
   "cell_type": "code",
   "execution_count": 2,
   "id": "110254fc",
   "metadata": {},
   "outputs": [],
   "source": [
    "import numpy as np\n",
    "from datetime import date\n",
    "today = date.today()"
   ]
  },
  {
   "cell_type": "code",
   "execution_count": 3,
   "id": "6203d36b",
   "metadata": {},
   "outputs": [],
   "source": [
    "def get_atoms_and_bonds(data):\n",
    "    num_rows  = len(data.split('\\n'))\n",
    "    n_atoms   = num_rows\n",
    "    n_bonds   = num_rows\n",
    "    counts_ind= num_rows\n",
    "\n",
    "    current_ind = 0\n",
    "    atoms = {}\n",
    "    bonds = []\n",
    "    for i in  data.split('\\n'):\n",
    "        cols = i.split()\n",
    "        if len(cols) == 11:\n",
    "            n_atoms = int(cols[0])\n",
    "            n_bonds = int(cols[1])\n",
    "            counts_ind = current_ind\n",
    "            #print(f\"Atoms: {n_atoms}  Bonds: {cols[1]}\")\n",
    "\n",
    "        if current_ind > counts_ind and current_ind <= counts_ind + n_atoms:\n",
    "            atom_ind = current_ind - counts_ind\n",
    "            atoms[f'{cols[3]}{atom_ind}'] = [float(j) for j in cols[:3]]\n",
    "        if current_ind > counts_ind + n_atoms and current_ind <= counts_ind + n_atoms + n_bonds:\n",
    "            bonds.append(cols)\n",
    "        current_ind +=1\n",
    "    return atoms,bonds"
   ]
  },
  {
   "cell_type": "code",
   "execution_count": 4,
   "id": "f7e9ab0b",
   "metadata": {},
   "outputs": [],
   "source": [
    "def get_cell_extents(atoms_dict):#alpha,beta,gamma always assumed to be 90degrees\n",
    "    xs=[]\n",
    "    ys=[]\n",
    "    zs=[]\n",
    "    \n",
    "    for i in atoms_dict.keys():\n",
    "        xs.append(atoms_dict[i][0])\n",
    "        ys.append(atoms_dict[i][1])\n",
    "        zs.append(atoms_dict[i][2])\n",
    "    x_range = (min(xs), max(xs)) \n",
    "    y_range = (min(ys), max(ys)) \n",
    "    z_range = (min(zs), max(zs)) \n",
    "    return x_range, y_range, z_range #tuples"
   ]
  },
  {
   "cell_type": "code",
   "execution_count": 5,
   "id": "4cb32303",
   "metadata": {},
   "outputs": [],
   "source": [
    "def scale_and_translate_coordinates(atoms):\n",
    "    output_atoms = {}\n",
    "    x_range, y_range, z_range = get_cell_extents(atoms)\n",
    "    \n",
    "    for i in atoms.keys():\n",
    "        output_atoms[i] = []\n",
    "        for coord_range, coord in zip([x_range, y_range, z_range],atoms[i]):\n",
    "            output_atoms[i].append((coord - coord_range[0]) / (coord_range[1]-coord_range[0]))\n",
    "    return output_atoms"
   ]
  },
  {
   "cell_type": "code",
   "execution_count": 6,
   "id": "023e6d0b",
   "metadata": {},
   "outputs": [],
   "source": [
    "remove_numeric = lambda S:  ''.join([i for i in S if not i.isdigit()])\n",
    "keep_numeric   = lambda S:  ''.join([i for i in S if i.isdigit()])"
   ]
  },
  {
   "cell_type": "code",
   "execution_count": 7,
   "id": "34ce29fe",
   "metadata": {},
   "outputs": [],
   "source": [
    "def get_atoms_block_text(atoms):\n",
    "    text = \"\"\n",
    "    scaled = scale_and_translate_coordinates(atoms)\n",
    "    for i in scaled.keys():\n",
    "        line = f\"{i} {remove_numeric(i)} {scaled[i][0]:6.5f} {scaled[i][1]:6.5f} {scaled[i][2]:6.5f}\\n\"\n",
    "        text += line\n",
    "    return text[:-1]"
   ]
  },
  {
   "cell_type": "code",
   "execution_count": 8,
   "id": "775344f7",
   "metadata": {},
   "outputs": [],
   "source": [
    "def get_bonds_block_text(atoms,bonds):\n",
    "    bond_types = ('S','D','T','A')#(“S” for single, “D” for double, “T” for triple, and “A” for aromatic)\n",
    "    text = \"\"\n",
    "    atoms_list = [i for i in atoms.keys()]\n",
    "    for i in bonds:\n",
    "        bond = [int(j) for j in i]\n",
    "        A1 = atoms_list[bond[0]-1]\n",
    "        A2 = atoms_list[bond[1]-1]\n",
    "        dist = np.linalg.norm(np.array(atoms[A1]) - np.array(atoms[A2]))\n",
    "        line = f\"{A1} {A2} {dist:7.5f} . {bond_types[bond[2]-1]}\\n\"\n",
    "        text += line\n",
    "    return text[:-1]"
   ]
  },
  {
   "cell_type": "code",
   "execution_count": 9,
   "id": "bd03dfbb",
   "metadata": {},
   "outputs": [],
   "source": [
    "def generate_cif_text(atoms,bonds):\n",
    "#def generate_cif_text(atoms,bonds,with_optional_columns= False):\n",
    "#    optional_columns = \"\"\n",
    "#    if with_optional_columns:\n",
    "#        optional_columns = \"\"\"\n",
    "#        _atom_site_U_iso_or_equiv\n",
    "#_atom_site_adp_type\n",
    "#_atom_site_occupancy\n",
    "#_atom_site_charge\"\"\"\n",
    "\n",
    "#_atom_site_fract_z{optional_columns}\n",
    "        \n",
    "    x_range, y_range, z_range = get_cell_extents(atoms)\n",
    "    atoms_block = get_atoms_block_text(atoms)\n",
    "    bonds_block = get_bonds_block_text(atoms,bonds)\n",
    "    \n",
    "    cif_text = f\"\"\"data_{file_name.split('.')[0]}\n",
    "_audit_creation_date              {today}\n",
    "_audit_creation_method            'mol2cif'\n",
    "_symmetry_space_group_name_H-M    'P1'\n",
    "_symmetry_Int_Tables_number       1\n",
    "_symmetry_cell_setting            triclinic\n",
    "loop_\n",
    "_symmetry_equiv_pos_as_xyz\n",
    "  x,y,z\n",
    "_cell_length_a                    {x_range[1] - x_range[0]}\n",
    "_cell_length_b                    {y_range[1] - y_range[0]}\n",
    "_cell_length_c                    {z_range[1] - z_range[0]}\n",
    "_cell_angle_alpha                 90.000000\n",
    "_cell_angle_beta                  90.000000\n",
    "_cell_angle_gamma                 90.000000\n",
    "loop_\n",
    "_atom_site_label\n",
    "_atom_site_type_symbol\n",
    "_atom_site_fract_x\n",
    "_atom_site_fract_y\n",
    "_atom_site_fract_z\n",
    "{atoms_block}\n",
    "loop_\n",
    "_geom_bond_atom_site_label_1\n",
    "_geom_bond_atom_site_label_2\n",
    "_geom_bond_distance\n",
    "_geom_bond_site_symmetry_2\n",
    "_ccdc_geom_bond_type\n",
    "{bonds_block}\n",
    "    \"\"\"\n",
    "    return cif_text"
   ]
  },
  {
   "cell_type": "code",
   "execution_count": 10,
   "id": "1a8bea05",
   "metadata": {},
   "outputs": [],
   "source": [
    "def clean_of_XeRn(cif_contents):\n",
    "    delimeter1 = \"\"\"loop_\n",
    "_atom_site_label\n",
    "_atom_site_type_symbol\n",
    "_atom_site_fract_x\n",
    "_atom_site_fract_y\n",
    "_atom_site_fract_z\n",
    "\"\"\"\n",
    "    delimeter2 = \"\"\"\n",
    "loop_\n",
    "_geom_bond_atom_site_label_1\n",
    "_geom_bond_atom_site_label_2\n",
    "_geom_bond_distance\n",
    "_geom_bond_site_symmetry_2\n",
    "_ccdc_geom_bond_type\n",
    "\"\"\"\n",
    "    atoms_block = cif_contents.split(delimeter1)[1].split(delimeter2)[0]\n",
    "    bonds_block = cif_contents.split(delimeter2)[1]\n",
    "    terminal_atoms = []\n",
    "    new_bonds_block = \"\"\n",
    "    for i in bonds_block.split('\\n'):\n",
    "        if \"Xe\" in i and \"Rn\" not in i:\n",
    "            terminal_atoms += [i.split()[0],i.split()[1]]\n",
    "        if \"Xe\" not in i and \"Rn\" not in i:\n",
    "            new_bonds_block += i\n",
    "            new_bonds_block += '\\n'\n",
    "    new_bonds_block = new_bonds_block[:-1]\n",
    "    terminal_atoms = list(set(terminal_atoms))\n",
    "    new_atoms_block = \"\"\n",
    "    for i in atoms_block.split('\\n'):\n",
    "        if i.strip() != \"\":\n",
    "            cols = i.split()\n",
    "            if cols[0] in terminal_atoms and cols[1] != \"Xe\":\n",
    "                line = f\"X{keep_numeric(cols[0])} {cols[1]} {cols[2]} {cols[3]} {cols[4]}\\n\"\n",
    "                new_atoms_block += line\n",
    "            else:\n",
    "                if cols[1] != \"Xe\" and cols[1] != \"Rn\":\n",
    "                    line = f\"{cols[0]} {cols[1]} {cols[2]} {cols[3]} {cols[4]}\\n\"\n",
    "                    new_atoms_block += line\n",
    "    new_atoms_block = new_atoms_block[:-1]\n",
    "    new_cif_text = cif_contents.split(delimeter1)[0] + delimeter1 + new_atoms_block + delimeter2 + new_bonds_block\n",
    "    \n",
    "    for i in terminal_atoms:\n",
    "        if i in new_cif_text:\n",
    "            new_cif_text= new_cif_text.replace(i,f\"X{keep_numeric(i)}\")\n",
    "    return new_cif_text"
   ]
  },
  {
   "cell_type": "code",
   "execution_count": 11,
   "id": "d7048250",
   "metadata": {},
   "outputs": [],
   "source": [
    "def mol2cif(file_name, output_file_name = \"\"):\n",
    "    if output_file_name ==\"\":\n",
    "        output_file_name = file_name.split('.')[0] + '.cif'\n",
    "    with open(file_name, 'r') as f:\n",
    "        data = f.read()\n",
    "    atoms,bonds = get_atoms_and_bonds(data)\n",
    "    with open(output_file_name,'w+') as f:\n",
    "        f.write(clean_of_XeRn(generate_cif_text(atoms,bonds)))"
   ]
  },
  {
   "cell_type": "code",
   "execution_count": 12,
   "id": "8570f13c",
   "metadata": {},
   "outputs": [],
   "source": [
    "if __name__ == \"__main__\":\n",
    "    mol2cif(file_name)"
   ]
  },
  {
   "cell_type": "code",
   "execution_count": null,
   "id": "426544dd",
   "metadata": {},
   "outputs": [],
   "source": []
  }
 ],
 "metadata": {
  "kernelspec": {
   "display_name": "Python 3 (ipykernel)",
   "language": "python",
   "name": "python3"
  },
  "language_info": {
   "codemirror_mode": {
    "name": "ipython",
    "version": 3
   },
   "file_extension": ".py",
   "mimetype": "text/x-python",
   "name": "python",
   "nbconvert_exporter": "python",
   "pygments_lexer": "ipython3",
   "version": "3.9.13"
  }
 },
 "nbformat": 4,
 "nbformat_minor": 5
}
