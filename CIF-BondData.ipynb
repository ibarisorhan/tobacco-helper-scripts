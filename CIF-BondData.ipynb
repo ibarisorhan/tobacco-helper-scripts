{
 "cells": [
  {
   "cell_type": "markdown",
   "id": "f8a3a7df",
   "metadata": {},
   "source": [
    "The building blocks (nodes and edges) used in  <a href=\"https://github.com/tobacco-mofs/tobacco_3.0\"> Topologically Based Crystal Constructor (ToBaCCo)</a> must follow the specific format outlined in the manual. This notebook can be used to individually specify the FILE that requires atom-bond data or the method outlined here can be moved to another script to streamline the process if mutliple building blocks require this undertaking. "
   ]
  },
  {
   "cell_type": "code",
   "execution_count": null,
   "id": "0a3e54d4",
   "metadata": {},
   "outputs": [],
   "source": [
    "FILE = \"EXAMPLE_EDGE.cif\" #speficy the file for which bond infomartion must be collected"
   ]
  },
  {
   "cell_type": "code",
   "execution_count": null,
   "id": "2ead8068",
   "metadata": {},
   "outputs": [],
   "source": [
    "from pymatgen.io.cif import CifWriter\n",
    "from pymatgen.io.lammps.data import CombinedData\n",
    "from pymatgen.io import xyz\n",
    "from pymatgen.io.cif import CifParser\n",
    "from pymatgen.io.cif import CifWriter\n",
    "import numpy as np"
   ]
  },
  {
   "cell_type": "code",
   "execution_count": null,
   "id": "52999f2b",
   "metadata": {},
   "outputs": [],
   "source": [
    "#EXAMPLE BOND DATA SECTION\n",
    "\n",
    "#The atom bonds in the CIF file must be specified in the following format\n",
    "\n",
    "\n",
    "example_format= \"\"\"\n",
    "loop_\n",
    "_geom_bond_atom_site_label_1\n",
    "_geom_bond_atom_site_label_2\n",
    "_geom_bond_distance\n",
    "_geom_bond_site_symmetry_2\n",
    "_ccdc_geom_bond_type\n",
    "X1 C2 1.540 . A\n",
    "X1 C6 1.540 . A\n",
    "C2 X3 1.540 . A\n",
    "C2 H7 1.140 . S\n",
    "X3 C4 1.540 . A\n",
    "C4 X5 1.540 . A\n",
    "C4 H8 1.140 . S\n",
    "X5 C6 1.540 . A\n",
    "C6 H9 1.140 . S\"\"\"\n",
    "print(example_format)"
   ]
  },
  {
   "cell_type": "code",
   "execution_count": null,
   "id": "81b577fb",
   "metadata": {},
   "outputs": [],
   "source": [
    "parser = CifParser(FILE) \n",
    "structure = parser.get_structures()[0]"
   ]
  },
  {
   "cell_type": "code",
   "execution_count": null,
   "id": "8e11d80e",
   "metadata": {},
   "outputs": [],
   "source": [
    "#When loaded directly through pymatgen, the labels have the same number, 1, regardless of \n",
    "#how many times the element has already occured in the structure.\n",
    "\n",
    "#This block corrects the issue stated above\n",
    "linker =structure.as_dict()\n",
    "s = linker['sites']\n",
    "atom_counter = {}\n",
    "for i in s:\n",
    "    element = i['species'][0]['element']\n",
    "    if element not in atom_counter:\n",
    "        atom_counter[element] = 0\n",
    "    atom_counter[element] +=1\n",
    "    i['label'] = f\"{element}{atom_counter[element]}\""
   ]
  },
  {
   "cell_type": "code",
   "execution_count": null,
   "id": "80b2b488",
   "metadata": {},
   "outputs": [],
   "source": [
    "#Certain atoms in the original cif file might require removal.\n",
    "#Those can be specified in separate lines below.\n",
    "removal_block = \"\"\"\n",
    "O1\n",
    "O2\n",
    "O3\n",
    "O4\n",
    "H7\n",
    "H8\n",
    "\"\"\"\n"
   ]
  },
  {
   "cell_type": "code",
   "execution_count": null,
   "id": "93f6098b",
   "metadata": {},
   "outputs": [],
   "source": [
    "#Here the atom positions are compared with each other's \n",
    "#if closer than the specified maximum below and neither atom has been marked for removal,\n",
    "#the atoms are documented as having a bond. \n",
    "#The \"_geom_bond_site_symmetry_2\" is recorded as \".\" and \n",
    "# the \"_ccdc_geom_bond_type\" is recorded as a single \"S\" bond. \n",
    "\n",
    "MAX_DIST = 1.9\n",
    "\n",
    "atoms_to_remove = [i for i in removal_block.split('\\n') if i.strip() != \"\"]\n",
    "for i in range(len(s)):\n",
    "    for j in range(i+1,len(s)):\n",
    "        a = np.array(s[i]['xyz'])\n",
    "        b = np.array(s[j]['xyz'])\n",
    "        dist = np.linalg.norm(a-b)\n",
    "        if dist < MAX_DIST and s[i]['label'] not in atoms_to_remove and s[j]['label'] not in atoms_to_remove:\n",
    "            print(f\"{s[i]['label']:<4} {s[j]['label']:<4} {dist:<6.5f} . S\")\n",
    "    "
   ]
  }
 ],
 "metadata": {
  "kernelspec": {
   "display_name": "Python 3 (ipykernel)",
   "language": "python",
   "name": "python3"
  },
  "language_info": {
   "codemirror_mode": {
    "name": "ipython",
    "version": 3
   },
   "file_extension": ".py",
   "mimetype": "text/x-python",
   "name": "python",
   "nbconvert_exporter": "python",
   "pygments_lexer": "ipython3",
   "version": "3.9.13"
  }
 },
 "nbformat": 4,
 "nbformat_minor": 5
}
